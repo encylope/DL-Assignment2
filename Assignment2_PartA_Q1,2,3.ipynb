{
  "nbformat": 4,
  "nbformat_minor": 0,
  "metadata": {
    "colab": {
      "provenance": [],
      "gpuType": "T4"
    },
    "kernelspec": {
      "name": "python3",
      "display_name": "Python 3"
    },
    "language_info": {
      "name": "python"
    },
    "accelerator": "GPU"
  },
  "cells": [
    {
      "cell_type": "markdown",
      "source": [
        "**DA6401-Assignment2-PartA**"
      ],
      "metadata": {
        "id": "a1x9llNd9Z8M"
      }
    },
    {
      "cell_type": "markdown",
      "source": [
        "Imports and Setup"
      ],
      "metadata": {
        "id": "-s5iGVJ69giD"
      }
    },
    {
      "cell_type": "code",
      "execution_count": null,
      "metadata": {
        "colab": {
          "base_uri": "https://localhost:8080/",
          "height": 228
        },
        "id": "HDBdOKSHY7C6",
        "outputId": "420e3c5e-0cd5-46dc-a813-475a3f013c9d"
      },
      "outputs": [
        {
          "output_type": "stream",
          "name": "stderr",
          "text": [
            "\u001b[34m\u001b[1mwandb\u001b[0m: Using wandb-core as the SDK backend.  Please refer to https://wandb.me/wandb-core for more information.\n"
          ]
        },
        {
          "output_type": "display_data",
          "data": {
            "text/plain": [
              "<IPython.core.display.Javascript object>"
            ],
            "application/javascript": [
              "\n",
              "        window._wandbApiKey = new Promise((resolve, reject) => {\n",
              "            function loadScript(url) {\n",
              "            return new Promise(function(resolve, reject) {\n",
              "                let newScript = document.createElement(\"script\");\n",
              "                newScript.onerror = reject;\n",
              "                newScript.onload = resolve;\n",
              "                document.body.appendChild(newScript);\n",
              "                newScript.src = url;\n",
              "            });\n",
              "            }\n",
              "            loadScript(\"https://cdn.jsdelivr.net/npm/postmate/build/postmate.min.js\").then(() => {\n",
              "            const iframe = document.createElement('iframe')\n",
              "            iframe.style.cssText = \"width:0;height:0;border:none\"\n",
              "            document.body.appendChild(iframe)\n",
              "            const handshake = new Postmate({\n",
              "                container: iframe,\n",
              "                url: 'https://wandb.ai/authorize'\n",
              "            });\n",
              "            const timeout = setTimeout(() => reject(\"Couldn't auto authenticate\"), 5000)\n",
              "            handshake.then(function(child) {\n",
              "                child.on('authorize', data => {\n",
              "                    clearTimeout(timeout)\n",
              "                    resolve(data)\n",
              "                });\n",
              "            });\n",
              "            })\n",
              "        });\n",
              "    "
            ]
          },
          "metadata": {}
        },
        {
          "output_type": "stream",
          "name": "stderr",
          "text": [
            "\u001b[34m\u001b[1mwandb\u001b[0m: Logging into wandb.ai. (Learn how to deploy a W&B server locally: https://wandb.me/wandb-server)\n",
            "\u001b[34m\u001b[1mwandb\u001b[0m: You can find your API key in your browser here: https://wandb.ai/authorize\n",
            "wandb: Paste an API key from your profile and hit enter:"
          ]
        },
        {
          "name": "stdout",
          "output_type": "stream",
          "text": [
            " ··········\n"
          ]
        },
        {
          "output_type": "stream",
          "name": "stderr",
          "text": [
            "\u001b[34m\u001b[1mwandb\u001b[0m: \u001b[33mWARNING\u001b[0m If you're specifying your api key in code, ensure this code is not shared publicly.\n",
            "\u001b[34m\u001b[1mwandb\u001b[0m: \u001b[33mWARNING\u001b[0m Consider setting the WANDB_API_KEY environment variable, or running `wandb login` from the command line.\n",
            "\u001b[34m\u001b[1mwandb\u001b[0m: No netrc file found, creating one.\n",
            "\u001b[34m\u001b[1mwandb\u001b[0m: Appending key for api.wandb.ai to your netrc file: /root/.netrc\n",
            "\u001b[34m\u001b[1mwandb\u001b[0m: Currently logged in as: \u001b[33mna21b075\u001b[0m (\u001b[33mna21b075-indian-institute-of-technology-madras\u001b[0m) to \u001b[32mhttps://api.wandb.ai\u001b[0m. Use \u001b[1m`wandb login --relogin`\u001b[0m to force relogin\n"
          ]
        },
        {
          "output_type": "execute_result",
          "data": {
            "text/plain": [
              "True"
            ]
          },
          "metadata": {},
          "execution_count": 1
        }
      ],
      "source": [
        "# Install wandb\n",
        "!pip install -q wandb\n",
        "import wandb\n",
        "wandb.login()"
      ]
    },
    {
      "cell_type": "markdown",
      "source": [
        "**QUESTION 1**"
      ],
      "metadata": {
        "id": "Pj7Il-tjEnDP"
      }
    },
    {
      "cell_type": "code",
      "source": [
        "#Import necessary libraries for deep learning, data handling, and utilities\n",
        "import torch\n",
        "import torch.nn as nn\n",
        "import torch.nn.functional as F\n",
        "import torchvision.transforms as transforms\n",
        "from torchvision.datasets import ImageFolder\n",
        "from torch.utils.data import DataLoader, Subset\n",
        "from sklearn.model_selection import train_test_split\n",
        "from tqdm import tqdm\n",
        "import numpy as np\n",
        "import random\n",
        "\n",
        "device = torch.device(\"cuda\" if torch.cuda.is_available() else \"cpu\")\n",
        "#Function to set random seeds for reproducibility\n",
        "def set_seed(seed=42):\n",
        "    torch.manual_seed(seed)\n",
        "    np.random.seed(seed)\n",
        "    random.seed(seed)\n",
        "# Setting seed for consistent results across runs\n",
        "set_seed()"
      ],
      "metadata": {
        "id": "dCPZmMJUZBbH"
      },
      "execution_count": null,
      "outputs": []
    },
    {
      "cell_type": "code",
      "source": [
        "#Function to create train and validation dataloaders with optional data augmentation\n",
        "def get_dataloaders(batch_size=32, aug=False):\n",
        "    #Initialize a list to hold the sequence of image transformations\n",
        "    transform_list = []\n",
        "# If augmentation is enabled, we will add random horizontal flip and random rotation\n",
        "    if aug:\n",
        "        transform_list.extend([\n",
        "            transforms.RandomHorizontalFlip(),\n",
        "            transforms.RandomRotation(15),\n",
        "        ])\n",
        "\n",
        "    transform_list.extend([\n",
        "        transforms.Resize((224, 224)),\n",
        "        transforms.ToTensor(),\n",
        "        transforms.Normalize([0.485, 0.456, 0.406],\n",
        "                             [0.229, 0.224, 0.225])\n",
        "    ])\n",
        "\n",
        "    transform = transforms.Compose(transform_list)\n",
        "    #dataset loading from the 'train' directory with the specified transforms\n",
        "    dataset = ImageFolder('inaturalist_12K/train', transform=transform)\n",
        "    labels = [dataset[i][1] for i in range(len(dataset))]\n",
        "# dataset indices split into training and validation sets with stratified sampling\n",
        "    train_idx, val_idx = train_test_split(\n",
        "        list(range(len(dataset))),\n",
        "        test_size=0.2,\n",
        "        stratify=labels,\n",
        "        random_state=42\n",
        "    )\n",
        "#dataloaders for the training and validation sets\n",
        "    train_loader = DataLoader(Subset(dataset, train_idx), batch_size=batch_size, shuffle=True)\n",
        "    val_loader = DataLoader(Subset(dataset, val_idx), batch_size=batch_size, shuffle=False)\n",
        "\n",
        "    return train_loader, val_loader, len(dataset.classes)\n"
      ],
      "metadata": {
        "id": "PGd-1N0NZ3od"
      },
      "execution_count": null,
      "outputs": []
    },
    {
      "cell_type": "code",
      "source": [
        "#A custom CNN model class with configurable architecture\n",
        "class CustomCNN(nn.Module):\n",
        "    def __init__(self, config, num_classes):\n",
        "        super().__init__()\n",
        "        self.config = config\n",
        "        act = self.get_activation(config.activ)\n",
        "        self.layers = nn.ModuleList()\n",
        "\n",
        "        in_channels = 3\n",
        "        filters = config.num_filters\n",
        "\n",
        "        # Input Conv Layer\n",
        "        self.layers.append(nn.Conv2d(in_channels, filters, config.ker_size_input, padding=1))\n",
        "        self.layers.append(act)\n",
        "        self.layers.append(nn.MaxPool2d(kernel_size=2))\n",
        "\n",
        "        # Intermediate Conv Blocks\n",
        "        for _ in range(4):\n",
        "            if config.filter_org == 'double':\n",
        "                filters *= 2\n",
        "            elif config.filter_org == 'half':\n",
        "                filters = max(16, filters // 2)\n",
        "            self.layers.append(nn.Conv2d(in_channels=filters // 2 if config.filter_org != 'same' else filters,\n",
        "                                         out_channels=filters,\n",
        "                                         kernel_size=3, padding=1))\n",
        "            if config.bn:\n",
        "                self.layers.append(nn.BatchNorm2d(filters))\n",
        "            self.layers.append(act)\n",
        "            self.layers.append(nn.MaxPool2d(kernel_size=2))\n",
        "\n",
        "        self.conv_out = nn.Sequential(*self.layers)\n",
        "\n",
        "        # Compute final size\n",
        "        dummy = torch.randn(1, 3, 224, 224)\n",
        "        with torch.no_grad():\n",
        "            dummy_out = self.conv_out(dummy)\n",
        "        flatten_size = dummy_out.view(1, -1).shape[1]\n",
        "\n",
        "        self.fc1 = nn.Linear(flatten_size, config.num_nodes)\n",
        "        self.bn_or_dp = nn.BatchNorm1d(config.num_nodes) if config.bn_vs_dp == 'bn' else nn.Dropout(config.dropout)\n",
        "        self.output = nn.Linear(config.num_nodes, num_classes)\n",
        "#Helper function to retrieve activation function by name\n",
        "    def get_activation(self, name):\n",
        "        return {\n",
        "            'relu': nn.ReLU(),\n",
        "            'silu': nn.SiLU(),\n",
        "            'gelu': nn.GELU(),\n",
        "            'mish': nn.Mish()\n",
        "        }[name]\n",
        "#orward pass through the network\n",
        "    def forward(self, x):\n",
        "        x = self.conv_out(x)\n",
        "        x = x.view(x.size(0), -1)\n",
        "        x = self.fc1(x)\n",
        "        x = self.bn_or_dp(x)\n",
        "        x = self.get_activation(self.config.activ)(x)\n",
        "        return self.output(x)\n"
      ],
      "metadata": {
        "id": "E77fAp2lZ657"
      },
      "execution_count": null,
      "outputs": []
    },
    {
      "cell_type": "markdown",
      "source": [
        "**QUESTION 2**"
      ],
      "metadata": {
        "id": "OK2Y8Q0REs4C"
      }
    },
    {
      "cell_type": "markdown",
      "source": [
        "20% of the training data, as validation data, for hyperparameter tuning"
      ],
      "metadata": {
        "id": "txGUGA4ZFDN1"
      }
    },
    {
      "cell_type": "code",
      "source": [
        "#Function to train the model using provided dataloaders and configuration\n",
        "def train(model, train_loader, val_loader, config):\n",
        "    model = model.to(device)\n",
        "    # loss function\n",
        "    criterion = nn.CrossEntropyLoss()\n",
        "    #optimizer based on configuration\n",
        "    optimizer = {\n",
        "        'adam': torch.optim.Adam(model.parameters(), lr=config.learning_rate),\n",
        "        'sgd': torch.optim.SGD(model.parameters(), lr=config.learning_rate, momentum=0.9),\n",
        "        'rmsprop': torch.optim.RMSprop(model.parameters(), lr=config.learning_rate)\n",
        "    }[config.optimizer]\n",
        "    #Training loop over epochs\n",
        "    for epoch in range(config.epochs):\n",
        "        model.train()\n",
        "        running_loss = 0\n",
        "        correct = 0\n",
        "        total = 0\n",
        "\n",
        "        #Loop over training data batches\n",
        "        for inputs, labels in tqdm(train_loader, desc=f\"Epoch {epoch+1}\"):\n",
        "            inputs, labels = inputs.to(device), labels.to(device)\n",
        "\n",
        "            optimizer.zero_grad()\n",
        "            outputs = model(inputs)\n",
        "            loss = criterion(outputs, labels)\n",
        "            loss.backward()\n",
        "            optimizer.step()\n",
        "\n",
        "            running_loss += loss.item()\n",
        "            _, predicted = torch.max(outputs, 1) #batch accuracy\n",
        "            total += labels.size(0)\n",
        "            correct += (predicted == labels).sum().item()\n",
        "\n",
        "        train_acc = correct / total #training accuracy for the epoch\n",
        "        val_acc, val_loss = evaluate(model, val_loader) # model evaluation on validation data\n",
        "\n",
        "        wandb.log({\n",
        "            \"train_loss\": running_loss / len(train_loader),\n",
        "            \"train_accuracy\": train_acc,\n",
        "            \"val_loss\": val_loss,\n",
        "            \"val_accuracy\": val_acc\n",
        "        })\n",
        "# Function to evaluate model performance on a given dataset\n",
        "def evaluate(model, loader):\n",
        "    model.eval()\n",
        "    criterion = nn.CrossEntropyLoss()\n",
        "    correct = 0\n",
        "    total = 0\n",
        "    val_loss = 0\n",
        "\n",
        "    with torch.no_grad():\n",
        "        for inputs, labels in loader:\n",
        "            inputs, labels = inputs.to(device), labels.to(device)\n",
        "            outputs = model(inputs)\n",
        "            val_loss += criterion(outputs, labels).item()\n",
        "            _, predicted = torch.max(outputs, 1)\n",
        "            total += labels.size(0)\n",
        "            correct += (predicted == labels).sum().item()\n",
        "\n",
        "    return correct / total, val_loss / len(loader) #overall accuracy and average loss over the dataset\n"
      ],
      "metadata": {
        "id": "UzuLaJJAZ9Uq"
      },
      "execution_count": null,
      "outputs": []
    },
    {
      "cell_type": "code",
      "source": [
        "sweep_config = {\n",
        "    'method': 'random',\n",
        "    'metric': {'name': 'val_accuracy', 'goal': 'maximize'},\n",
        "    'parameters': {\n",
        "        'learning_rate': {'values': [1e-3, 1e-4]},\n",
        "        'activ': {'values': ['relu']},\n",
        "        'bn': {'values': [0, 1]},\n",
        "        'num_filters': {'values': [32, 64]},\n",
        "        'filter_org': {'values': ['same', 'double']},\n",
        "        'epochs': {'values': [5]},\n",
        "        'dropout': {'values': [0.2, 0.3]},\n",
        "        'data_aug': {'values': [0, 1]},\n",
        "        'optimizer': {'values': ['adam', 'sgd', 'rmsprop']},\n",
        "        'batch_size': {'values': [32, 64]},\n",
        "        'ker_size_input': {'values': [3, 5]},\n",
        "        'bn_vs_dp': {'values': ['bn', 'dp']},\n",
        "        'num_nodes': {'values': [512, 1024]}\n",
        "    }\n",
        "}\n"
      ],
      "metadata": {
        "id": "NT9OMSvsaA1w"
      },
      "execution_count": null,
      "outputs": []
    },
    {
      "cell_type": "code",
      "source": [
        "def sweep_train(config=None):\n",
        "    with wandb.init(config=config):\n",
        "        config = wandb.config\n",
        "        train_loader, val_loader, num_classes = get_dataloaders(config.batch_size, bool(config.data_aug))\n",
        "        model = CustomCNN(config, num_classes)\n",
        "        train(model, train_loader, val_loader, config)\n",
        "\n",
        "sweep_id = wandb.sweep(sweep_config, project=\"asgn2_q1_torch\")\n",
        "wandb.agent(sweep_id, function=sweep_train, count=2)\n"
      ],
      "metadata": {
        "colab": {
          "base_uri": "https://localhost:8080/",
          "height": 1000
        },
        "id": "z6zW3Bs5aDUW",
        "outputId": "773b542b-724d-410f-dea0-8228ffe1b9ac"
      },
      "execution_count": null,
      "outputs": [
        {
          "output_type": "stream",
          "name": "stdout",
          "text": [
            "Create sweep with ID: 98dgdtoy\n",
            "Sweep URL: https://wandb.ai/na21b075-indian-institute-of-technology-madras/asgn2_q1_torch/sweeps/98dgdtoy\n"
          ]
        },
        {
          "output_type": "stream",
          "name": "stderr",
          "text": [
            "\u001b[34m\u001b[1mwandb\u001b[0m: Agent Starting Run: hx7w58me with config:\n",
            "\u001b[34m\u001b[1mwandb\u001b[0m: \tactiv: relu\n",
            "\u001b[34m\u001b[1mwandb\u001b[0m: \tbatch_size: 64\n",
            "\u001b[34m\u001b[1mwandb\u001b[0m: \tbn: 1\n",
            "\u001b[34m\u001b[1mwandb\u001b[0m: \tbn_vs_dp: bn\n",
            "\u001b[34m\u001b[1mwandb\u001b[0m: \tdata_aug: 1\n",
            "\u001b[34m\u001b[1mwandb\u001b[0m: \tdropout: 0.2\n",
            "\u001b[34m\u001b[1mwandb\u001b[0m: \tepochs: 5\n",
            "\u001b[34m\u001b[1mwandb\u001b[0m: \tfilter_org: double\n",
            "\u001b[34m\u001b[1mwandb\u001b[0m: \tker_size_input: 5\n",
            "\u001b[34m\u001b[1mwandb\u001b[0m: \tlearning_rate: 0.0001\n",
            "\u001b[34m\u001b[1mwandb\u001b[0m: \tnum_filters: 32\n",
            "\u001b[34m\u001b[1mwandb\u001b[0m: \tnum_nodes: 1024\n",
            "\u001b[34m\u001b[1mwandb\u001b[0m: \toptimizer: sgd\n"
          ]
        },
        {
          "output_type": "display_data",
          "data": {
            "text/plain": [
              "<IPython.core.display.HTML object>"
            ],
            "text/html": [
              "Tracking run with wandb version 0.19.9"
            ]
          },
          "metadata": {}
        },
        {
          "output_type": "display_data",
          "data": {
            "text/plain": [
              "<IPython.core.display.HTML object>"
            ],
            "text/html": [
              "Run data is saved locally in <code>/content/wandb/run-20250418_054458-hx7w58me</code>"
            ]
          },
          "metadata": {}
        },
        {
          "output_type": "display_data",
          "data": {
            "text/plain": [
              "<IPython.core.display.HTML object>"
            ],
            "text/html": [
              "Syncing run <strong><a href='https://wandb.ai/na21b075-indian-institute-of-technology-madras/asgn2_q1_torch/runs/hx7w58me' target=\"_blank\">driven-sweep-1</a></strong> to <a href='https://wandb.ai/na21b075-indian-institute-of-technology-madras/asgn2_q1_torch' target=\"_blank\">Weights & Biases</a> (<a href='https://wandb.me/developer-guide' target=\"_blank\">docs</a>)<br>Sweep page: <a href='https://wandb.ai/na21b075-indian-institute-of-technology-madras/asgn2_q1_torch/sweeps/98dgdtoy' target=\"_blank\">https://wandb.ai/na21b075-indian-institute-of-technology-madras/asgn2_q1_torch/sweeps/98dgdtoy</a>"
            ]
          },
          "metadata": {}
        },
        {
          "output_type": "display_data",
          "data": {
            "text/plain": [
              "<IPython.core.display.HTML object>"
            ],
            "text/html": [
              " View project at <a href='https://wandb.ai/na21b075-indian-institute-of-technology-madras/asgn2_q1_torch' target=\"_blank\">https://wandb.ai/na21b075-indian-institute-of-technology-madras/asgn2_q1_torch</a>"
            ]
          },
          "metadata": {}
        },
        {
          "output_type": "display_data",
          "data": {
            "text/plain": [
              "<IPython.core.display.HTML object>"
            ],
            "text/html": [
              " View sweep at <a href='https://wandb.ai/na21b075-indian-institute-of-technology-madras/asgn2_q1_torch/sweeps/98dgdtoy' target=\"_blank\">https://wandb.ai/na21b075-indian-institute-of-technology-madras/asgn2_q1_torch/sweeps/98dgdtoy</a>"
            ]
          },
          "metadata": {}
        },
        {
          "output_type": "display_data",
          "data": {
            "text/plain": [
              "<IPython.core.display.HTML object>"
            ],
            "text/html": [
              " View run at <a href='https://wandb.ai/na21b075-indian-institute-of-technology-madras/asgn2_q1_torch/runs/hx7w58me' target=\"_blank\">https://wandb.ai/na21b075-indian-institute-of-technology-madras/asgn2_q1_torch/runs/hx7w58me</a>"
            ]
          },
          "metadata": {}
        },
        {
          "output_type": "stream",
          "name": "stderr",
          "text": [
            "Epoch 1: 100%|██████████| 141/141 [02:26<00:00,  1.04s/it]\n",
            "Epoch 2: 100%|██████████| 141/141 [02:22<00:00,  1.01s/it]\n",
            "Epoch 3: 100%|██████████| 141/141 [02:22<00:00,  1.01s/it]\n",
            "Epoch 4: 100%|██████████| 141/141 [02:24<00:00,  1.02s/it]\n",
            "Epoch 5: 100%|██████████| 141/141 [02:22<00:00,  1.01s/it]\n"
          ]
        },
        {
          "output_type": "display_data",
          "data": {
            "text/plain": [
              "<IPython.core.display.HTML object>"
            ],
            "text/html": []
          },
          "metadata": {}
        },
        {
          "output_type": "display_data",
          "data": {
            "text/plain": [
              "<IPython.core.display.HTML object>"
            ],
            "text/html": [
              "<br>    <style><br>        .wandb-row {<br>            display: flex;<br>            flex-direction: row;<br>            flex-wrap: wrap;<br>            justify-content: flex-start;<br>            width: 100%;<br>        }<br>        .wandb-col {<br>            display: flex;<br>            flex-direction: column;<br>            flex-basis: 100%;<br>            flex: 1;<br>            padding: 10px;<br>        }<br>    </style><br><div class=\"wandb-row\"><div class=\"wandb-col\"><h3>Run history:</h3><br/><table class=\"wandb\"><tr><td>train_accuracy</td><td>▁▅▆▇█</td></tr><tr><td>train_loss</td><td>█▄▃▂▁</td></tr><tr><td>val_accuracy</td><td>▁▄▆▆█</td></tr><tr><td>val_loss</td><td>█▅▃▂▁</td></tr></table><br/></div><div class=\"wandb-col\"><h3>Run summary:</h3><br/><table class=\"wandb\"><tr><td>train_accuracy</td><td>0.38527</td></tr><tr><td>train_loss</td><td>1.78192</td></tr><tr><td>val_accuracy</td><td>0.364</td></tr><tr><td>val_loss</td><td>1.84424</td></tr></table><br/></div></div>"
            ]
          },
          "metadata": {}
        },
        {
          "output_type": "display_data",
          "data": {
            "text/plain": [
              "<IPython.core.display.HTML object>"
            ],
            "text/html": [
              " View run <strong style=\"color:#cdcd00\">driven-sweep-1</strong> at: <a href='https://wandb.ai/na21b075-indian-institute-of-technology-madras/asgn2_q1_torch/runs/hx7w58me' target=\"_blank\">https://wandb.ai/na21b075-indian-institute-of-technology-madras/asgn2_q1_torch/runs/hx7w58me</a><br> View project at: <a href='https://wandb.ai/na21b075-indian-institute-of-technology-madras/asgn2_q1_torch' target=\"_blank\">https://wandb.ai/na21b075-indian-institute-of-technology-madras/asgn2_q1_torch</a><br>Synced 5 W&B file(s), 0 media file(s), 0 artifact file(s) and 0 other file(s)"
            ]
          },
          "metadata": {}
        },
        {
          "output_type": "display_data",
          "data": {
            "text/plain": [
              "<IPython.core.display.HTML object>"
            ],
            "text/html": [
              "Find logs at: <code>./wandb/run-20250418_054458-hx7w58me/logs</code>"
            ]
          },
          "metadata": {}
        },
        {
          "output_type": "stream",
          "name": "stderr",
          "text": [
            "\u001b[34m\u001b[1mwandb\u001b[0m: Agent Starting Run: e094i7y1 with config:\n",
            "\u001b[34m\u001b[1mwandb\u001b[0m: \tactiv: relu\n",
            "\u001b[34m\u001b[1mwandb\u001b[0m: \tbatch_size: 32\n",
            "\u001b[34m\u001b[1mwandb\u001b[0m: \tbn: 0\n",
            "\u001b[34m\u001b[1mwandb\u001b[0m: \tbn_vs_dp: bn\n",
            "\u001b[34m\u001b[1mwandb\u001b[0m: \tdata_aug: 1\n",
            "\u001b[34m\u001b[1mwandb\u001b[0m: \tdropout: 0.3\n",
            "\u001b[34m\u001b[1mwandb\u001b[0m: \tepochs: 5\n",
            "\u001b[34m\u001b[1mwandb\u001b[0m: \tfilter_org: double\n",
            "\u001b[34m\u001b[1mwandb\u001b[0m: \tker_size_input: 3\n",
            "\u001b[34m\u001b[1mwandb\u001b[0m: \tlearning_rate: 0.0001\n",
            "\u001b[34m\u001b[1mwandb\u001b[0m: \tnum_filters: 32\n",
            "\u001b[34m\u001b[1mwandb\u001b[0m: \tnum_nodes: 512\n",
            "\u001b[34m\u001b[1mwandb\u001b[0m: \toptimizer: sgd\n"
          ]
        },
        {
          "output_type": "display_data",
          "data": {
            "text/plain": [
              "<IPython.core.display.HTML object>"
            ],
            "text/html": [
              "Tracking run with wandb version 0.19.9"
            ]
          },
          "metadata": {}
        },
        {
          "output_type": "display_data",
          "data": {
            "text/plain": [
              "<IPython.core.display.HTML object>"
            ],
            "text/html": [
              "Run data is saved locally in <code>/content/wandb/run-20250418_060045-e094i7y1</code>"
            ]
          },
          "metadata": {}
        },
        {
          "output_type": "display_data",
          "data": {
            "text/plain": [
              "<IPython.core.display.HTML object>"
            ],
            "text/html": [
              "Syncing run <strong><a href='https://wandb.ai/na21b075-indian-institute-of-technology-madras/asgn2_q1_torch/runs/e094i7y1' target=\"_blank\">absurd-sweep-2</a></strong> to <a href='https://wandb.ai/na21b075-indian-institute-of-technology-madras/asgn2_q1_torch' target=\"_blank\">Weights & Biases</a> (<a href='https://wandb.me/developer-guide' target=\"_blank\">docs</a>)<br>Sweep page: <a href='https://wandb.ai/na21b075-indian-institute-of-technology-madras/asgn2_q1_torch/sweeps/98dgdtoy' target=\"_blank\">https://wandb.ai/na21b075-indian-institute-of-technology-madras/asgn2_q1_torch/sweeps/98dgdtoy</a>"
            ]
          },
          "metadata": {}
        },
        {
          "output_type": "display_data",
          "data": {
            "text/plain": [
              "<IPython.core.display.HTML object>"
            ],
            "text/html": [
              " View project at <a href='https://wandb.ai/na21b075-indian-institute-of-technology-madras/asgn2_q1_torch' target=\"_blank\">https://wandb.ai/na21b075-indian-institute-of-technology-madras/asgn2_q1_torch</a>"
            ]
          },
          "metadata": {}
        },
        {
          "output_type": "display_data",
          "data": {
            "text/plain": [
              "<IPython.core.display.HTML object>"
            ],
            "text/html": [
              " View sweep at <a href='https://wandb.ai/na21b075-indian-institute-of-technology-madras/asgn2_q1_torch/sweeps/98dgdtoy' target=\"_blank\">https://wandb.ai/na21b075-indian-institute-of-technology-madras/asgn2_q1_torch/sweeps/98dgdtoy</a>"
            ]
          },
          "metadata": {}
        },
        {
          "output_type": "display_data",
          "data": {
            "text/plain": [
              "<IPython.core.display.HTML object>"
            ],
            "text/html": [
              " View run at <a href='https://wandb.ai/na21b075-indian-institute-of-technology-madras/asgn2_q1_torch/runs/e094i7y1' target=\"_blank\">https://wandb.ai/na21b075-indian-institute-of-technology-madras/asgn2_q1_torch/runs/e094i7y1</a>"
            ]
          },
          "metadata": {}
        },
        {
          "output_type": "stream",
          "name": "stderr",
          "text": [
            "Epoch 1: 100%|██████████| 282/282 [02:25<00:00,  1.94it/s]\n",
            "Epoch 2: 100%|██████████| 282/282 [02:21<00:00,  1.99it/s]\n",
            "Epoch 3: 100%|██████████| 282/282 [02:21<00:00,  1.99it/s]\n",
            "Epoch 4: 100%|██████████| 282/282 [02:20<00:00,  2.00it/s]\n",
            "Epoch 5: 100%|██████████| 282/282 [02:23<00:00,  1.97it/s]\n"
          ]
        },
        {
          "output_type": "display_data",
          "data": {
            "text/plain": [
              "<IPython.core.display.HTML object>"
            ],
            "text/html": []
          },
          "metadata": {}
        },
        {
          "output_type": "display_data",
          "data": {
            "text/plain": [
              "<IPython.core.display.HTML object>"
            ],
            "text/html": [
              "<br>    <style><br>        .wandb-row {<br>            display: flex;<br>            flex-direction: row;<br>            flex-wrap: wrap;<br>            justify-content: flex-start;<br>            width: 100%;<br>        }<br>        .wandb-col {<br>            display: flex;<br>            flex-direction: column;<br>            flex-basis: 100%;<br>            flex: 1;<br>            padding: 10px;<br>        }<br>    </style><br><div class=\"wandb-row\"><div class=\"wandb-col\"><h3>Run history:</h3><br/><table class=\"wandb\"><tr><td>train_accuracy</td><td>▁▅▆▇█</td></tr><tr><td>train_loss</td><td>█▄▃▂▁</td></tr><tr><td>val_accuracy</td><td>▁▅▅▆█</td></tr><tr><td>val_loss</td><td>█▆▃▅▁</td></tr></table><br/></div><div class=\"wandb-col\"><h3>Run summary:</h3><br/><table class=\"wandb\"><tr><td>train_accuracy</td><td>0.3736</td></tr><tr><td>train_loss</td><td>1.80046</td></tr><tr><td>val_accuracy</td><td>0.351</td></tr><tr><td>val_loss</td><td>1.86412</td></tr></table><br/></div></div>"
            ]
          },
          "metadata": {}
        },
        {
          "output_type": "display_data",
          "data": {
            "text/plain": [
              "<IPython.core.display.HTML object>"
            ],
            "text/html": [
              " View run <strong style=\"color:#cdcd00\">absurd-sweep-2</strong> at: <a href='https://wandb.ai/na21b075-indian-institute-of-technology-madras/asgn2_q1_torch/runs/e094i7y1' target=\"_blank\">https://wandb.ai/na21b075-indian-institute-of-technology-madras/asgn2_q1_torch/runs/e094i7y1</a><br> View project at: <a href='https://wandb.ai/na21b075-indian-institute-of-technology-madras/asgn2_q1_torch' target=\"_blank\">https://wandb.ai/na21b075-indian-institute-of-technology-madras/asgn2_q1_torch</a><br>Synced 5 W&B file(s), 0 media file(s), 0 artifact file(s) and 0 other file(s)"
            ]
          },
          "metadata": {}
        },
        {
          "output_type": "display_data",
          "data": {
            "text/plain": [
              "<IPython.core.display.HTML object>"
            ],
            "text/html": [
              "Find logs at: <code>./wandb/run-20250418_060045-e094i7y1/logs</code>"
            ]
          },
          "metadata": {}
        }
      ]
    },
    {
      "cell_type": "code",
      "source": [
        "sweep_config = {\n",
        "    'method': 'random',\n",
        "    'metric': {'name': 'val_accuracy', 'goal': 'maximize'},\n",
        "    'parameters': {\n",
        "        'learning_rate': {'values': [1e-3, 1e-4]},\n",
        "        'activ': {'values': ['relu']},\n",
        "        'bn': {'values': [0, 1]},\n",
        "        'num_filters': {'values': [32, 64]},\n",
        "        'filter_org': {'values': ['same', 'double']},\n",
        "        'epochs': {'values': [5,10]},\n",
        "        'dropout': {'values': [0.2, 0.3]},\n",
        "        'data_aug': {'values': [0, 1]},\n",
        "        'optimizer': {'values': ['adam', 'sgd', 'rmsprop']},\n",
        "        'batch_size': {'values': [32, 64]},\n",
        "        'ker_size_input': {'values': [3, 5]},\n",
        "        'bn_vs_dp': {'values': ['bn', 'dp']},\n",
        "        'num_nodes': {'values': [512, 1024]}\n",
        "    }\n",
        "}\n",
        "def sweep_train(config=None):\n",
        "    with wandb.init(config=config):\n",
        "        config = wandb.config\n",
        "        train_loader, val_loader, num_classes = get_dataloaders(config.batch_size, bool(config.data_aug))\n",
        "        model = CustomCNN(config, num_classes)\n",
        "        train(model, train_loader, val_loader, config)\n",
        "\n",
        "sweep_id = wandb.sweep(sweep_config, project=\"asgn2_q1_torch\")\n",
        "wandb.agent(sweep_id, function=sweep_train, count=5)  # run 2 experiments"
      ],
      "metadata": {
        "colab": {
          "base_uri": "https://localhost:8080/",
          "height": 1000
        },
        "id": "h6ybSpHdbiPm",
        "outputId": "f1740936-4dfe-46e9-db0b-0358c8487a4b"
      },
      "execution_count": null,
      "outputs": [
        {
          "output_type": "stream",
          "name": "stdout",
          "text": [
            "Create sweep with ID: wl9lsblt\n",
            "Sweep URL: https://wandb.ai/na21b075-indian-institute-of-technology-madras/asgn2_q1_torch/sweeps/wl9lsblt\n"
          ]
        },
        {
          "output_type": "stream",
          "name": "stderr",
          "text": [
            "\u001b[34m\u001b[1mwandb\u001b[0m: Agent Starting Run: 23z0xufy with config:\n",
            "\u001b[34m\u001b[1mwandb\u001b[0m: \tactiv: relu\n",
            "\u001b[34m\u001b[1mwandb\u001b[0m: \tbatch_size: 64\n",
            "\u001b[34m\u001b[1mwandb\u001b[0m: \tbn: 1\n",
            "\u001b[34m\u001b[1mwandb\u001b[0m: \tbn_vs_dp: dp\n",
            "\u001b[34m\u001b[1mwandb\u001b[0m: \tdata_aug: 0\n",
            "\u001b[34m\u001b[1mwandb\u001b[0m: \tdropout: 0.3\n",
            "\u001b[34m\u001b[1mwandb\u001b[0m: \tepochs: 5\n",
            "\u001b[34m\u001b[1mwandb\u001b[0m: \tfilter_org: double\n",
            "\u001b[34m\u001b[1mwandb\u001b[0m: \tker_size_input: 3\n",
            "\u001b[34m\u001b[1mwandb\u001b[0m: \tlearning_rate: 0.001\n",
            "\u001b[34m\u001b[1mwandb\u001b[0m: \tnum_filters: 64\n",
            "\u001b[34m\u001b[1mwandb\u001b[0m: \tnum_nodes: 1024\n",
            "\u001b[34m\u001b[1mwandb\u001b[0m: \toptimizer: sgd\n"
          ]
        },
        {
          "output_type": "display_data",
          "data": {
            "text/plain": [
              "<IPython.core.display.HTML object>"
            ],
            "text/html": [
              "Tracking run with wandb version 0.19.9"
            ]
          },
          "metadata": {}
        },
        {
          "output_type": "display_data",
          "data": {
            "text/plain": [
              "<IPython.core.display.HTML object>"
            ],
            "text/html": [
              "Run data is saved locally in <code>/content/wandb/run-20250418_061602-23z0xufy</code>"
            ]
          },
          "metadata": {}
        },
        {
          "output_type": "display_data",
          "data": {
            "text/plain": [
              "<IPython.core.display.HTML object>"
            ],
            "text/html": [
              "Syncing run <strong><a href='https://wandb.ai/na21b075-indian-institute-of-technology-madras/asgn2_q1_torch/runs/23z0xufy' target=\"_blank\">dandy-sweep-1</a></strong> to <a href='https://wandb.ai/na21b075-indian-institute-of-technology-madras/asgn2_q1_torch' target=\"_blank\">Weights & Biases</a> (<a href='https://wandb.me/developer-guide' target=\"_blank\">docs</a>)<br>Sweep page: <a href='https://wandb.ai/na21b075-indian-institute-of-technology-madras/asgn2_q1_torch/sweeps/wl9lsblt' target=\"_blank\">https://wandb.ai/na21b075-indian-institute-of-technology-madras/asgn2_q1_torch/sweeps/wl9lsblt</a>"
            ]
          },
          "metadata": {}
        },
        {
          "output_type": "display_data",
          "data": {
            "text/plain": [
              "<IPython.core.display.HTML object>"
            ],
            "text/html": [
              " View project at <a href='https://wandb.ai/na21b075-indian-institute-of-technology-madras/asgn2_q1_torch' target=\"_blank\">https://wandb.ai/na21b075-indian-institute-of-technology-madras/asgn2_q1_torch</a>"
            ]
          },
          "metadata": {}
        },
        {
          "output_type": "display_data",
          "data": {
            "text/plain": [
              "<IPython.core.display.HTML object>"
            ],
            "text/html": [
              " View sweep at <a href='https://wandb.ai/na21b075-indian-institute-of-technology-madras/asgn2_q1_torch/sweeps/wl9lsblt' target=\"_blank\">https://wandb.ai/na21b075-indian-institute-of-technology-madras/asgn2_q1_torch/sweeps/wl9lsblt</a>"
            ]
          },
          "metadata": {}
        },
        {
          "output_type": "display_data",
          "data": {
            "text/plain": [
              "<IPython.core.display.HTML object>"
            ],
            "text/html": [
              " View run at <a href='https://wandb.ai/na21b075-indian-institute-of-technology-madras/asgn2_q1_torch/runs/23z0xufy' target=\"_blank\">https://wandb.ai/na21b075-indian-institute-of-technology-madras/asgn2_q1_torch/runs/23z0xufy</a>"
            ]
          },
          "metadata": {}
        },
        {
          "output_type": "stream",
          "name": "stderr",
          "text": [
            "Epoch 1: 100%|██████████| 141/141 [02:31<00:00,  1.08s/it]\n",
            "Epoch 2: 100%|██████████| 141/141 [02:30<00:00,  1.07s/it]\n",
            "Epoch 3: 100%|██████████| 141/141 [02:31<00:00,  1.08s/it]\n",
            "Epoch 4: 100%|██████████| 141/141 [02:30<00:00,  1.07s/it]\n",
            "Epoch 5: 100%|██████████| 141/141 [02:29<00:00,  1.06s/it]\n"
          ]
        },
        {
          "output_type": "display_data",
          "data": {
            "text/plain": [
              "<IPython.core.display.HTML object>"
            ],
            "text/html": []
          },
          "metadata": {}
        },
        {
          "output_type": "display_data",
          "data": {
            "text/plain": [
              "<IPython.core.display.HTML object>"
            ],
            "text/html": [
              "<br>    <style><br>        .wandb-row {<br>            display: flex;<br>            flex-direction: row;<br>            flex-wrap: wrap;<br>            justify-content: flex-start;<br>            width: 100%;<br>        }<br>        .wandb-col {<br>            display: flex;<br>            flex-direction: column;<br>            flex-basis: 100%;<br>            flex: 1;<br>            padding: 10px;<br>        }<br>    </style><br><div class=\"wandb-row\"><div class=\"wandb-col\"><h3>Run history:</h3><br/><table class=\"wandb\"><tr><td>train_accuracy</td><td>▁▄▆▇█</td></tr><tr><td>train_loss</td><td>█▅▄▂▁</td></tr><tr><td>val_accuracy</td><td>▁▄▃█▇</td></tr><tr><td>val_loss</td><td>▇▄█▁▂</td></tr></table><br/></div><div class=\"wandb-col\"><h3>Run summary:</h3><br/><table class=\"wandb\"><tr><td>train_accuracy</td><td>0.4146</td></tr><tr><td>train_loss</td><td>1.66267</td></tr><tr><td>val_accuracy</td><td>0.365</td></tr><tr><td>val_loss</td><td>1.83237</td></tr></table><br/></div></div>"
            ]
          },
          "metadata": {}
        },
        {
          "output_type": "display_data",
          "data": {
            "text/plain": [
              "<IPython.core.display.HTML object>"
            ],
            "text/html": [
              " View run <strong style=\"color:#cdcd00\">dandy-sweep-1</strong> at: <a href='https://wandb.ai/na21b075-indian-institute-of-technology-madras/asgn2_q1_torch/runs/23z0xufy' target=\"_blank\">https://wandb.ai/na21b075-indian-institute-of-technology-madras/asgn2_q1_torch/runs/23z0xufy</a><br> View project at: <a href='https://wandb.ai/na21b075-indian-institute-of-technology-madras/asgn2_q1_torch' target=\"_blank\">https://wandb.ai/na21b075-indian-institute-of-technology-madras/asgn2_q1_torch</a><br>Synced 5 W&B file(s), 0 media file(s), 0 artifact file(s) and 0 other file(s)"
            ]
          },
          "metadata": {}
        },
        {
          "output_type": "display_data",
          "data": {
            "text/plain": [
              "<IPython.core.display.HTML object>"
            ],
            "text/html": [
              "Find logs at: <code>./wandb/run-20250418_061602-23z0xufy/logs</code>"
            ]
          },
          "metadata": {}
        },
        {
          "output_type": "stream",
          "name": "stderr",
          "text": [
            "\u001b[34m\u001b[1mwandb\u001b[0m: Agent Starting Run: 1uwxyej5 with config:\n",
            "\u001b[34m\u001b[1mwandb\u001b[0m: \tactiv: relu\n",
            "\u001b[34m\u001b[1mwandb\u001b[0m: \tbatch_size: 32\n",
            "\u001b[34m\u001b[1mwandb\u001b[0m: \tbn: 1\n",
            "\u001b[34m\u001b[1mwandb\u001b[0m: \tbn_vs_dp: dp\n",
            "\u001b[34m\u001b[1mwandb\u001b[0m: \tdata_aug: 1\n",
            "\u001b[34m\u001b[1mwandb\u001b[0m: \tdropout: 0.3\n",
            "\u001b[34m\u001b[1mwandb\u001b[0m: \tepochs: 10\n",
            "\u001b[34m\u001b[1mwandb\u001b[0m: \tfilter_org: double\n",
            "\u001b[34m\u001b[1mwandb\u001b[0m: \tker_size_input: 3\n",
            "\u001b[34m\u001b[1mwandb\u001b[0m: \tlearning_rate: 0.001\n",
            "\u001b[34m\u001b[1mwandb\u001b[0m: \tnum_filters: 64\n",
            "\u001b[34m\u001b[1mwandb\u001b[0m: \tnum_nodes: 512\n",
            "\u001b[34m\u001b[1mwandb\u001b[0m: \toptimizer: rmsprop\n"
          ]
        },
        {
          "output_type": "display_data",
          "data": {
            "text/plain": [
              "<IPython.core.display.HTML object>"
            ],
            "text/html": [
              "Tracking run with wandb version 0.19.9"
            ]
          },
          "metadata": {}
        },
        {
          "output_type": "display_data",
          "data": {
            "text/plain": [
              "<IPython.core.display.HTML object>"
            ],
            "text/html": [
              "Run data is saved locally in <code>/content/wandb/run-20250418_063140-1uwxyej5</code>"
            ]
          },
          "metadata": {}
        },
        {
          "output_type": "display_data",
          "data": {
            "text/plain": [
              "<IPython.core.display.HTML object>"
            ],
            "text/html": [
              "Syncing run <strong><a href='https://wandb.ai/na21b075-indian-institute-of-technology-madras/asgn2_q1_torch/runs/1uwxyej5' target=\"_blank\">hopeful-sweep-2</a></strong> to <a href='https://wandb.ai/na21b075-indian-institute-of-technology-madras/asgn2_q1_torch' target=\"_blank\">Weights & Biases</a> (<a href='https://wandb.me/developer-guide' target=\"_blank\">docs</a>)<br>Sweep page: <a href='https://wandb.ai/na21b075-indian-institute-of-technology-madras/asgn2_q1_torch/sweeps/wl9lsblt' target=\"_blank\">https://wandb.ai/na21b075-indian-institute-of-technology-madras/asgn2_q1_torch/sweeps/wl9lsblt</a>"
            ]
          },
          "metadata": {}
        },
        {
          "output_type": "display_data",
          "data": {
            "text/plain": [
              "<IPython.core.display.HTML object>"
            ],
            "text/html": [
              " View project at <a href='https://wandb.ai/na21b075-indian-institute-of-technology-madras/asgn2_q1_torch' target=\"_blank\">https://wandb.ai/na21b075-indian-institute-of-technology-madras/asgn2_q1_torch</a>"
            ]
          },
          "metadata": {}
        },
        {
          "output_type": "display_data",
          "data": {
            "text/plain": [
              "<IPython.core.display.HTML object>"
            ],
            "text/html": [
              " View sweep at <a href='https://wandb.ai/na21b075-indian-institute-of-technology-madras/asgn2_q1_torch/sweeps/wl9lsblt' target=\"_blank\">https://wandb.ai/na21b075-indian-institute-of-technology-madras/asgn2_q1_torch/sweeps/wl9lsblt</a>"
            ]
          },
          "metadata": {}
        },
        {
          "output_type": "display_data",
          "data": {
            "text/plain": [
              "<IPython.core.display.HTML object>"
            ],
            "text/html": [
              " View run at <a href='https://wandb.ai/na21b075-indian-institute-of-technology-madras/asgn2_q1_torch/runs/1uwxyej5' target=\"_blank\">https://wandb.ai/na21b075-indian-institute-of-technology-madras/asgn2_q1_torch/runs/1uwxyej5</a>"
            ]
          },
          "metadata": {}
        },
        {
          "output_type": "stream",
          "name": "stderr",
          "text": [
            "Epoch 1: 100%|██████████| 282/282 [02:45<00:00,  1.71it/s]\n",
            "Epoch 2: 100%|██████████| 282/282 [02:44<00:00,  1.72it/s]\n",
            "Epoch 3: 100%|██████████| 282/282 [02:45<00:00,  1.71it/s]\n",
            "Epoch 4: 100%|██████████| 282/282 [02:46<00:00,  1.69it/s]\n",
            "Epoch 5: 100%|██████████| 282/282 [02:47<00:00,  1.69it/s]\n",
            "Epoch 6: 100%|██████████| 282/282 [02:46<00:00,  1.69it/s]\n",
            "Epoch 7: 100%|██████████| 282/282 [02:47<00:00,  1.69it/s]\n",
            "Epoch 8: 100%|██████████| 282/282 [02:46<00:00,  1.69it/s]\n",
            "Epoch 9: 100%|██████████| 282/282 [02:47<00:00,  1.68it/s]\n",
            "Epoch 10: 100%|██████████| 282/282 [02:46<00:00,  1.69it/s]\n"
          ]
        },
        {
          "output_type": "display_data",
          "data": {
            "text/plain": [
              "<IPython.core.display.HTML object>"
            ],
            "text/html": []
          },
          "metadata": {}
        },
        {
          "output_type": "display_data",
          "data": {
            "text/plain": [
              "<IPython.core.display.HTML object>"
            ],
            "text/html": [
              "<br>    <style><br>        .wandb-row {<br>            display: flex;<br>            flex-direction: row;<br>            flex-wrap: wrap;<br>            justify-content: flex-start;<br>            width: 100%;<br>        }<br>        .wandb-col {<br>            display: flex;<br>            flex-direction: column;<br>            flex-basis: 100%;<br>            flex: 1;<br>            padding: 10px;<br>        }<br>    </style><br><div class=\"wandb-row\"><div class=\"wandb-col\"><h3>Run history:</h3><br/><table class=\"wandb\"><tr><td>train_accuracy</td><td>█▃▃▂▁▃▃▂▂▃</td></tr><tr><td>train_loss</td><td>█▁▁▁▁▁▁▁▁▁</td></tr><tr><td>val_accuracy</td><td>▁█████████</td></tr><tr><td>val_loss</td><td>█▁▁▁▁▁▁▁▁▁</td></tr></table><br/></div><div class=\"wandb-col\"><h3>Run summary:</h3><br/><table class=\"wandb\"><tr><td>train_accuracy</td><td>0.09412</td></tr><tr><td>train_loss</td><td>2.31221</td></tr><tr><td>val_accuracy</td><td>0.1</td></tr><tr><td>val_loss</td><td>2.30259</td></tr></table><br/></div></div>"
            ]
          },
          "metadata": {}
        },
        {
          "output_type": "display_data",
          "data": {
            "text/plain": [
              "<IPython.core.display.HTML object>"
            ],
            "text/html": [
              " View run <strong style=\"color:#cdcd00\">hopeful-sweep-2</strong> at: <a href='https://wandb.ai/na21b075-indian-institute-of-technology-madras/asgn2_q1_torch/runs/1uwxyej5' target=\"_blank\">https://wandb.ai/na21b075-indian-institute-of-technology-madras/asgn2_q1_torch/runs/1uwxyej5</a><br> View project at: <a href='https://wandb.ai/na21b075-indian-institute-of-technology-madras/asgn2_q1_torch' target=\"_blank\">https://wandb.ai/na21b075-indian-institute-of-technology-madras/asgn2_q1_torch</a><br>Synced 5 W&B file(s), 0 media file(s), 0 artifact file(s) and 0 other file(s)"
            ]
          },
          "metadata": {}
        },
        {
          "output_type": "display_data",
          "data": {
            "text/plain": [
              "<IPython.core.display.HTML object>"
            ],
            "text/html": [
              "Find logs at: <code>./wandb/run-20250418_063140-1uwxyej5/logs</code>"
            ]
          },
          "metadata": {}
        },
        {
          "output_type": "stream",
          "name": "stderr",
          "text": [
            "\u001b[34m\u001b[1mwandb\u001b[0m: Agent Starting Run: 78dxzk2b with config:\n",
            "\u001b[34m\u001b[1mwandb\u001b[0m: \tactiv: relu\n",
            "\u001b[34m\u001b[1mwandb\u001b[0m: \tbatch_size: 32\n",
            "\u001b[34m\u001b[1mwandb\u001b[0m: \tbn: 0\n",
            "\u001b[34m\u001b[1mwandb\u001b[0m: \tbn_vs_dp: bn\n",
            "\u001b[34m\u001b[1mwandb\u001b[0m: \tdata_aug: 1\n",
            "\u001b[34m\u001b[1mwandb\u001b[0m: \tdropout: 0.2\n",
            "\u001b[34m\u001b[1mwandb\u001b[0m: \tepochs: 10\n",
            "\u001b[34m\u001b[1mwandb\u001b[0m: \tfilter_org: double\n",
            "\u001b[34m\u001b[1mwandb\u001b[0m: \tker_size_input: 5\n",
            "\u001b[34m\u001b[1mwandb\u001b[0m: \tlearning_rate: 0.001\n",
            "\u001b[34m\u001b[1mwandb\u001b[0m: \tnum_filters: 64\n",
            "\u001b[34m\u001b[1mwandb\u001b[0m: \tnum_nodes: 512\n",
            "\u001b[34m\u001b[1mwandb\u001b[0m: \toptimizer: rmsprop\n"
          ]
        },
        {
          "output_type": "display_data",
          "data": {
            "text/plain": [
              "<IPython.core.display.HTML object>"
            ],
            "text/html": [
              "Tracking run with wandb version 0.19.9"
            ]
          },
          "metadata": {}
        },
        {
          "output_type": "display_data",
          "data": {
            "text/plain": [
              "<IPython.core.display.HTML object>"
            ],
            "text/html": [
              "Run data is saved locally in <code>/content/wandb/run-20250418_070406-78dxzk2b</code>"
            ]
          },
          "metadata": {}
        },
        {
          "output_type": "display_data",
          "data": {
            "text/plain": [
              "<IPython.core.display.HTML object>"
            ],
            "text/html": [
              "Syncing run <strong><a href='https://wandb.ai/na21b075-indian-institute-of-technology-madras/asgn2_q1_torch/runs/78dxzk2b' target=\"_blank\">glad-sweep-3</a></strong> to <a href='https://wandb.ai/na21b075-indian-institute-of-technology-madras/asgn2_q1_torch' target=\"_blank\">Weights & Biases</a> (<a href='https://wandb.me/developer-guide' target=\"_blank\">docs</a>)<br>Sweep page: <a href='https://wandb.ai/na21b075-indian-institute-of-technology-madras/asgn2_q1_torch/sweeps/wl9lsblt' target=\"_blank\">https://wandb.ai/na21b075-indian-institute-of-technology-madras/asgn2_q1_torch/sweeps/wl9lsblt</a>"
            ]
          },
          "metadata": {}
        },
        {
          "output_type": "display_data",
          "data": {
            "text/plain": [
              "<IPython.core.display.HTML object>"
            ],
            "text/html": [
              " View project at <a href='https://wandb.ai/na21b075-indian-institute-of-technology-madras/asgn2_q1_torch' target=\"_blank\">https://wandb.ai/na21b075-indian-institute-of-technology-madras/asgn2_q1_torch</a>"
            ]
          },
          "metadata": {}
        },
        {
          "output_type": "display_data",
          "data": {
            "text/plain": [
              "<IPython.core.display.HTML object>"
            ],
            "text/html": [
              " View sweep at <a href='https://wandb.ai/na21b075-indian-institute-of-technology-madras/asgn2_q1_torch/sweeps/wl9lsblt' target=\"_blank\">https://wandb.ai/na21b075-indian-institute-of-technology-madras/asgn2_q1_torch/sweeps/wl9lsblt</a>"
            ]
          },
          "metadata": {}
        },
        {
          "output_type": "display_data",
          "data": {
            "text/plain": [
              "<IPython.core.display.HTML object>"
            ],
            "text/html": [
              " View run at <a href='https://wandb.ai/na21b075-indian-institute-of-technology-madras/asgn2_q1_torch/runs/78dxzk2b' target=\"_blank\">https://wandb.ai/na21b075-indian-institute-of-technology-madras/asgn2_q1_torch/runs/78dxzk2b</a>"
            ]
          },
          "metadata": {}
        },
        {
          "output_type": "stream",
          "name": "stderr",
          "text": [
            "Epoch 1: 100%|██████████| 282/282 [02:41<00:00,  1.74it/s]\n",
            "Epoch 2: 100%|██████████| 282/282 [02:41<00:00,  1.75it/s]\n",
            "Epoch 3: 100%|██████████| 282/282 [02:43<00:00,  1.73it/s]\n",
            "Epoch 4: 100%|██████████| 282/282 [02:44<00:00,  1.72it/s]\n",
            "Epoch 5: 100%|██████████| 282/282 [02:40<00:00,  1.75it/s]\n",
            "Epoch 6: 100%|██████████| 282/282 [02:42<00:00,  1.73it/s]\n",
            "Epoch 7: 100%|██████████| 282/282 [02:42<00:00,  1.73it/s]\n",
            "Epoch 8: 100%|██████████| 282/282 [02:43<00:00,  1.72it/s]\n",
            "Epoch 9: 100%|██████████| 282/282 [02:41<00:00,  1.74it/s]\n",
            "Epoch 10: 100%|██████████| 282/282 [02:42<00:00,  1.73it/s]\n"
          ]
        },
        {
          "output_type": "display_data",
          "data": {
            "text/plain": [
              "<IPython.core.display.HTML object>"
            ],
            "text/html": []
          },
          "metadata": {}
        },
        {
          "output_type": "display_data",
          "data": {
            "text/plain": [
              "<IPython.core.display.HTML object>"
            ],
            "text/html": [
              "<br>    <style><br>        .wandb-row {<br>            display: flex;<br>            flex-direction: row;<br>            flex-wrap: wrap;<br>            justify-content: flex-start;<br>            width: 100%;<br>        }<br>        .wandb-col {<br>            display: flex;<br>            flex-direction: column;<br>            flex-basis: 100%;<br>            flex: 1;<br>            padding: 10px;<br>        }<br>    </style><br><div class=\"wandb-row\"><div class=\"wandb-col\"><h3>Run history:</h3><br/><table class=\"wandb\"><tr><td>train_accuracy</td><td>▁▃▄▅▅▆▆▇▇█</td></tr><tr><td>train_loss</td><td>█▆▅▄▄▃▃▂▂▁</td></tr><tr><td>val_accuracy</td><td>▂▂▁▄▅▅▆▄▇█</td></tr><tr><td>val_loss</td><td>▃▄█▄▂▂▂▃▂▁</td></tr></table><br/></div><div class=\"wandb-col\"><h3>Run summary:</h3><br/><table class=\"wandb\"><tr><td>train_accuracy</td><td>0.43683</td></tr><tr><td>train_loss</td><td>1.61812</td></tr><tr><td>val_accuracy</td><td>0.365</td></tr><tr><td>val_loss</td><td>1.80449</td></tr></table><br/></div></div>"
            ]
          },
          "metadata": {}
        },
        {
          "output_type": "display_data",
          "data": {
            "text/plain": [
              "<IPython.core.display.HTML object>"
            ],
            "text/html": [
              " View run <strong style=\"color:#cdcd00\">glad-sweep-3</strong> at: <a href='https://wandb.ai/na21b075-indian-institute-of-technology-madras/asgn2_q1_torch/runs/78dxzk2b' target=\"_blank\">https://wandb.ai/na21b075-indian-institute-of-technology-madras/asgn2_q1_torch/runs/78dxzk2b</a><br> View project at: <a href='https://wandb.ai/na21b075-indian-institute-of-technology-madras/asgn2_q1_torch' target=\"_blank\">https://wandb.ai/na21b075-indian-institute-of-technology-madras/asgn2_q1_torch</a><br>Synced 5 W&B file(s), 0 media file(s), 0 artifact file(s) and 0 other file(s)"
            ]
          },
          "metadata": {}
        },
        {
          "output_type": "display_data",
          "data": {
            "text/plain": [
              "<IPython.core.display.HTML object>"
            ],
            "text/html": [
              "Find logs at: <code>./wandb/run-20250418_070406-78dxzk2b/logs</code>"
            ]
          },
          "metadata": {}
        },
        {
          "output_type": "stream",
          "name": "stderr",
          "text": [
            "\u001b[34m\u001b[1mwandb\u001b[0m: Agent Starting Run: ton43quk with config:\n",
            "\u001b[34m\u001b[1mwandb\u001b[0m: \tactiv: relu\n",
            "\u001b[34m\u001b[1mwandb\u001b[0m: \tbatch_size: 64\n",
            "\u001b[34m\u001b[1mwandb\u001b[0m: \tbn: 1\n",
            "\u001b[34m\u001b[1mwandb\u001b[0m: \tbn_vs_dp: dp\n",
            "\u001b[34m\u001b[1mwandb\u001b[0m: \tdata_aug: 0\n",
            "\u001b[34m\u001b[1mwandb\u001b[0m: \tdropout: 0.2\n",
            "\u001b[34m\u001b[1mwandb\u001b[0m: \tepochs: 10\n",
            "\u001b[34m\u001b[1mwandb\u001b[0m: \tfilter_org: same\n",
            "\u001b[34m\u001b[1mwandb\u001b[0m: \tker_size_input: 3\n",
            "\u001b[34m\u001b[1mwandb\u001b[0m: \tlearning_rate: 0.001\n",
            "\u001b[34m\u001b[1mwandb\u001b[0m: \tnum_filters: 64\n",
            "\u001b[34m\u001b[1mwandb\u001b[0m: \tnum_nodes: 512\n",
            "\u001b[34m\u001b[1mwandb\u001b[0m: \toptimizer: sgd\n"
          ]
        },
        {
          "output_type": "display_data",
          "data": {
            "text/plain": [
              "<IPython.core.display.HTML object>"
            ],
            "text/html": [
              "Tracking run with wandb version 0.19.9"
            ]
          },
          "metadata": {}
        },
        {
          "output_type": "display_data",
          "data": {
            "text/plain": [
              "<IPython.core.display.HTML object>"
            ],
            "text/html": [
              "Run data is saved locally in <code>/content/wandb/run-20250418_073551-ton43quk</code>"
            ]
          },
          "metadata": {}
        },
        {
          "output_type": "display_data",
          "data": {
            "text/plain": [
              "<IPython.core.display.HTML object>"
            ],
            "text/html": [
              "Syncing run <strong><a href='https://wandb.ai/na21b075-indian-institute-of-technology-madras/asgn2_q1_torch/runs/ton43quk' target=\"_blank\">dashing-sweep-4</a></strong> to <a href='https://wandb.ai/na21b075-indian-institute-of-technology-madras/asgn2_q1_torch' target=\"_blank\">Weights & Biases</a> (<a href='https://wandb.me/developer-guide' target=\"_blank\">docs</a>)<br>Sweep page: <a href='https://wandb.ai/na21b075-indian-institute-of-technology-madras/asgn2_q1_torch/sweeps/wl9lsblt' target=\"_blank\">https://wandb.ai/na21b075-indian-institute-of-technology-madras/asgn2_q1_torch/sweeps/wl9lsblt</a>"
            ]
          },
          "metadata": {}
        },
        {
          "output_type": "display_data",
          "data": {
            "text/plain": [
              "<IPython.core.display.HTML object>"
            ],
            "text/html": [
              " View project at <a href='https://wandb.ai/na21b075-indian-institute-of-technology-madras/asgn2_q1_torch' target=\"_blank\">https://wandb.ai/na21b075-indian-institute-of-technology-madras/asgn2_q1_torch</a>"
            ]
          },
          "metadata": {}
        },
        {
          "output_type": "display_data",
          "data": {
            "text/plain": [
              "<IPython.core.display.HTML object>"
            ],
            "text/html": [
              " View sweep at <a href='https://wandb.ai/na21b075-indian-institute-of-technology-madras/asgn2_q1_torch/sweeps/wl9lsblt' target=\"_blank\">https://wandb.ai/na21b075-indian-institute-of-technology-madras/asgn2_q1_torch/sweeps/wl9lsblt</a>"
            ]
          },
          "metadata": {}
        },
        {
          "output_type": "display_data",
          "data": {
            "text/plain": [
              "<IPython.core.display.HTML object>"
            ],
            "text/html": [
              " View run at <a href='https://wandb.ai/na21b075-indian-institute-of-technology-madras/asgn2_q1_torch/runs/ton43quk' target=\"_blank\">https://wandb.ai/na21b075-indian-institute-of-technology-madras/asgn2_q1_torch/runs/ton43quk</a>"
            ]
          },
          "metadata": {}
        },
        {
          "output_type": "stream",
          "name": "stderr",
          "text": [
            "Epoch 1: 100%|██████████| 141/141 [02:05<00:00,  1.13it/s]\n",
            "Epoch 2: 100%|██████████| 141/141 [02:03<00:00,  1.14it/s]\n",
            "Epoch 3: 100%|██████████| 141/141 [02:02<00:00,  1.15it/s]\n",
            "Epoch 4: 100%|██████████| 141/141 [02:03<00:00,  1.14it/s]\n",
            "Epoch 5: 100%|██████████| 141/141 [02:03<00:00,  1.14it/s]\n",
            "Epoch 6: 100%|██████████| 141/141 [02:01<00:00,  1.16it/s]\n",
            "Epoch 7: 100%|██████████| 141/141 [02:03<00:00,  1.14it/s]\n",
            "Epoch 8: 100%|██████████| 141/141 [02:02<00:00,  1.15it/s]\n",
            "Epoch 9: 100%|██████████| 141/141 [02:04<00:00,  1.14it/s]\n",
            "Epoch 10: 100%|██████████| 141/141 [02:02<00:00,  1.15it/s]\n"
          ]
        },
        {
          "output_type": "display_data",
          "data": {
            "text/plain": [
              "<IPython.core.display.HTML object>"
            ],
            "text/html": []
          },
          "metadata": {}
        },
        {
          "output_type": "display_data",
          "data": {
            "text/plain": [
              "<IPython.core.display.HTML object>"
            ],
            "text/html": [
              "<br>    <style><br>        .wandb-row {<br>            display: flex;<br>            flex-direction: row;<br>            flex-wrap: wrap;<br>            justify-content: flex-start;<br>            width: 100%;<br>        }<br>        .wandb-col {<br>            display: flex;<br>            flex-direction: column;<br>            flex-basis: 100%;<br>            flex: 1;<br>            padding: 10px;<br>        }<br>    </style><br><div class=\"wandb-row\"><div class=\"wandb-col\"><h3>Run history:</h3><br/><table class=\"wandb\"><tr><td>train_accuracy</td><td>▁▃▄▅▅▆▆▇██</td></tr><tr><td>train_loss</td><td>█▆▅▅▄▃▃▂▂▁</td></tr><tr><td>val_accuracy</td><td>▁▃▃▄▆▇▅▅█▆</td></tr><tr><td>val_loss</td><td>█▆▆▄▂▁▄▇▁▃</td></tr></table><br/></div><div class=\"wandb-col\"><h3>Run summary:</h3><br/><table class=\"wandb\"><tr><td>train_accuracy</td><td>0.4955</td></tr><tr><td>train_loss</td><td>1.46586</td></tr><tr><td>val_accuracy</td><td>0.365</td></tr><tr><td>val_loss</td><td>1.87584</td></tr></table><br/></div></div>"
            ]
          },
          "metadata": {}
        },
        {
          "output_type": "display_data",
          "data": {
            "text/plain": [
              "<IPython.core.display.HTML object>"
            ],
            "text/html": [
              " View run <strong style=\"color:#cdcd00\">dashing-sweep-4</strong> at: <a href='https://wandb.ai/na21b075-indian-institute-of-technology-madras/asgn2_q1_torch/runs/ton43quk' target=\"_blank\">https://wandb.ai/na21b075-indian-institute-of-technology-madras/asgn2_q1_torch/runs/ton43quk</a><br> View project at: <a href='https://wandb.ai/na21b075-indian-institute-of-technology-madras/asgn2_q1_torch' target=\"_blank\">https://wandb.ai/na21b075-indian-institute-of-technology-madras/asgn2_q1_torch</a><br>Synced 5 W&B file(s), 0 media file(s), 0 artifact file(s) and 0 other file(s)"
            ]
          },
          "metadata": {}
        },
        {
          "output_type": "display_data",
          "data": {
            "text/plain": [
              "<IPython.core.display.HTML object>"
            ],
            "text/html": [
              "Find logs at: <code>./wandb/run-20250418_073551-ton43quk/logs</code>"
            ]
          },
          "metadata": {}
        },
        {
          "output_type": "stream",
          "name": "stderr",
          "text": [
            "\u001b[34m\u001b[1mwandb\u001b[0m: Sweep Agent: Waiting for job.\n",
            "\u001b[34m\u001b[1mwandb\u001b[0m: Job received.\n",
            "\u001b[34m\u001b[1mwandb\u001b[0m: Agent Starting Run: os8y4pf4 with config:\n",
            "\u001b[34m\u001b[1mwandb\u001b[0m: \tactiv: relu\n",
            "\u001b[34m\u001b[1mwandb\u001b[0m: \tbatch_size: 64\n",
            "\u001b[34m\u001b[1mwandb\u001b[0m: \tbn: 0\n",
            "\u001b[34m\u001b[1mwandb\u001b[0m: \tbn_vs_dp: dp\n",
            "\u001b[34m\u001b[1mwandb\u001b[0m: \tdata_aug: 1\n",
            "\u001b[34m\u001b[1mwandb\u001b[0m: \tdropout: 0.3\n",
            "\u001b[34m\u001b[1mwandb\u001b[0m: \tepochs: 10\n",
            "\u001b[34m\u001b[1mwandb\u001b[0m: \tfilter_org: double\n",
            "\u001b[34m\u001b[1mwandb\u001b[0m: \tker_size_input: 5\n",
            "\u001b[34m\u001b[1mwandb\u001b[0m: \tlearning_rate: 0.0001\n",
            "\u001b[34m\u001b[1mwandb\u001b[0m: \tnum_filters: 64\n",
            "\u001b[34m\u001b[1mwandb\u001b[0m: \tnum_nodes: 1024\n",
            "\u001b[34m\u001b[1mwandb\u001b[0m: \toptimizer: rmsprop\n"
          ]
        },
        {
          "output_type": "display_data",
          "data": {
            "text/plain": [
              "<IPython.core.display.HTML object>"
            ],
            "text/html": [
              "Tracking run with wandb version 0.19.9"
            ]
          },
          "metadata": {}
        },
        {
          "output_type": "display_data",
          "data": {
            "text/plain": [
              "<IPython.core.display.HTML object>"
            ],
            "text/html": [
              "Run data is saved locally in <code>/content/wandb/run-20250418_080031-os8y4pf4</code>"
            ]
          },
          "metadata": {}
        },
        {
          "output_type": "display_data",
          "data": {
            "text/plain": [
              "<IPython.core.display.HTML object>"
            ],
            "text/html": [
              "Syncing run <strong><a href='https://wandb.ai/na21b075-indian-institute-of-technology-madras/asgn2_q1_torch/runs/os8y4pf4' target=\"_blank\">zany-sweep-5</a></strong> to <a href='https://wandb.ai/na21b075-indian-institute-of-technology-madras/asgn2_q1_torch' target=\"_blank\">Weights & Biases</a> (<a href='https://wandb.me/developer-guide' target=\"_blank\">docs</a>)<br>Sweep page: <a href='https://wandb.ai/na21b075-indian-institute-of-technology-madras/asgn2_q1_torch/sweeps/wl9lsblt' target=\"_blank\">https://wandb.ai/na21b075-indian-institute-of-technology-madras/asgn2_q1_torch/sweeps/wl9lsblt</a>"
            ]
          },
          "metadata": {}
        },
        {
          "output_type": "display_data",
          "data": {
            "text/plain": [
              "<IPython.core.display.HTML object>"
            ],
            "text/html": [
              " View project at <a href='https://wandb.ai/na21b075-indian-institute-of-technology-madras/asgn2_q1_torch' target=\"_blank\">https://wandb.ai/na21b075-indian-institute-of-technology-madras/asgn2_q1_torch</a>"
            ]
          },
          "metadata": {}
        },
        {
          "output_type": "display_data",
          "data": {
            "text/plain": [
              "<IPython.core.display.HTML object>"
            ],
            "text/html": [
              " View sweep at <a href='https://wandb.ai/na21b075-indian-institute-of-technology-madras/asgn2_q1_torch/sweeps/wl9lsblt' target=\"_blank\">https://wandb.ai/na21b075-indian-institute-of-technology-madras/asgn2_q1_torch/sweeps/wl9lsblt</a>"
            ]
          },
          "metadata": {}
        },
        {
          "output_type": "display_data",
          "data": {
            "text/plain": [
              "<IPython.core.display.HTML object>"
            ],
            "text/html": [
              " View run at <a href='https://wandb.ai/na21b075-indian-institute-of-technology-madras/asgn2_q1_torch/runs/os8y4pf4' target=\"_blank\">https://wandb.ai/na21b075-indian-institute-of-technology-madras/asgn2_q1_torch/runs/os8y4pf4</a>"
            ]
          },
          "metadata": {}
        },
        {
          "output_type": "stream",
          "name": "stderr",
          "text": [
            "Epoch 1: 100%|██████████| 141/141 [02:45<00:00,  1.17s/it]\n",
            "Epoch 2: 100%|██████████| 141/141 [02:45<00:00,  1.17s/it]\n",
            "Epoch 3: 100%|██████████| 141/141 [02:45<00:00,  1.17s/it]\n",
            "Epoch 4: 100%|██████████| 141/141 [02:52<00:00,  1.22s/it]\n",
            "Epoch 5: 100%|██████████| 141/141 [02:50<00:00,  1.21s/it]\n",
            "Epoch 6: 100%|██████████| 141/141 [02:50<00:00,  1.21s/it]\n",
            "Epoch 7: 100%|██████████| 141/141 [02:52<00:00,  1.23s/it]\n",
            "Epoch 8: 100%|██████████| 141/141 [02:53<00:00,  1.23s/it]\n",
            "Epoch 9: 100%|██████████| 141/141 [02:50<00:00,  1.21s/it]\n",
            "Epoch 10: 100%|██████████| 141/141 [02:50<00:00,  1.21s/it]\n"
          ]
        },
        {
          "output_type": "display_data",
          "data": {
            "text/plain": [
              "<IPython.core.display.HTML object>"
            ],
            "text/html": []
          },
          "metadata": {}
        },
        {
          "output_type": "display_data",
          "data": {
            "text/plain": [
              "<IPython.core.display.HTML object>"
            ],
            "text/html": [
              "<br>    <style><br>        .wandb-row {<br>            display: flex;<br>            flex-direction: row;<br>            flex-wrap: wrap;<br>            justify-content: flex-start;<br>            width: 100%;<br>        }<br>        .wandb-col {<br>            display: flex;<br>            flex-direction: column;<br>            flex-basis: 100%;<br>            flex: 1;<br>            padding: 10px;<br>        }<br>    </style><br><div class=\"wandb-row\"><div class=\"wandb-col\"><h3>Run history:</h3><br/><table class=\"wandb\"><tr><td>train_accuracy</td><td>▁▃▄▅▆▆▇▇▇█</td></tr><tr><td>train_loss</td><td>█▆▅▄▃▃▂▂▁▁</td></tr><tr><td>val_accuracy</td><td>▁▂▆▅▇█▇███</td></tr><tr><td>val_loss</td><td>▇█▄▄▃▂▂▁▁▂</td></tr></table><br/></div><div class=\"wandb-col\"><h3>Run summary:</h3><br/><table class=\"wandb\"><tr><td>train_accuracy</td><td>0.42549</td></tr><tr><td>train_loss</td><td>1.65964</td></tr><tr><td>val_accuracy</td><td>0.384</td></tr><tr><td>val_loss</td><td>1.82406</td></tr></table><br/></div></div>"
            ]
          },
          "metadata": {}
        },
        {
          "output_type": "display_data",
          "data": {
            "text/plain": [
              "<IPython.core.display.HTML object>"
            ],
            "text/html": [
              " View run <strong style=\"color:#cdcd00\">zany-sweep-5</strong> at: <a href='https://wandb.ai/na21b075-indian-institute-of-technology-madras/asgn2_q1_torch/runs/os8y4pf4' target=\"_blank\">https://wandb.ai/na21b075-indian-institute-of-technology-madras/asgn2_q1_torch/runs/os8y4pf4</a><br> View project at: <a href='https://wandb.ai/na21b075-indian-institute-of-technology-madras/asgn2_q1_torch' target=\"_blank\">https://wandb.ai/na21b075-indian-institute-of-technology-madras/asgn2_q1_torch</a><br>Synced 5 W&B file(s), 0 media file(s), 0 artifact file(s) and 0 other file(s)"
            ]
          },
          "metadata": {}
        },
        {
          "output_type": "display_data",
          "data": {
            "text/plain": [
              "<IPython.core.display.HTML object>"
            ],
            "text/html": [
              "Find logs at: <code>./wandb/run-20250418_080031-os8y4pf4/logs</code>"
            ]
          },
          "metadata": {}
        }
      ]
    }
  ]
}